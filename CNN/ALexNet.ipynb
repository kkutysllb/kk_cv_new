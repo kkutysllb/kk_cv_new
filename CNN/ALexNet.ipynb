{
 "cells": [
  {
   "cell_type": "markdown",
   "metadata": {},
   "source": [
    "@Author : kkutysllb\n",
    "\n",
    "@E-mail : libing1@sn.chinamobile.com，31468130@qq.com\n",
    "\n",
    "@Date   : 2024-11-26 10:15\n",
    "\n",
    "@Desc   : AleNet图片分类"
   ]
  },
  {
   "cell_type": "code",
   "execution_count": 1,
   "metadata": {
    "ExecuteTime": {
     "end_time": "2024-11-28T04:04:47.637701Z",
     "start_time": "2024-11-28T04:04:47.295044Z"
    }
   },
   "outputs": [],
   "source": [
    "import torch\n",
    "import torch.nn as nn\n",
    "import torch.optim as optim\n",
    "from torchvision.datasets import CIFAR10\n",
    "from torchvision import transforms\n",
    "import sys\n",
    "import os\n",
    "sys.path.append('../')\n",
    "from kk_libraries.kk_functions import get_device, kk_ImageClassifierTrainer\n",
    "from kk_libraries.kk_models import kk_init_weights_relu\n",
    "from kk_libraries.kk_dataprocess import kk_load_data, kk_predict_images_labels\n",
    "from kk_libraries.kk_constants import text_labels_cifar10, mean, std\n"
   ]
  },
  {
   "cell_type": "code",
   "execution_count": 2,
   "metadata": {
    "ExecuteTime": {
     "end_time": "2024-11-28T04:04:51.159762Z",
     "start_time": "2024-11-28T04:04:51.134703Z"
    }
   },
   "outputs": [],
   "source": [
    "# 定义模型\n",
    "class AlexNet(nn.Module):\n",
    "    def __init__(self, in_channels=3, num_classes=10):\n",
    "        super(AlexNet, self).__init__()\n",
    "        self.conv1 = nn.Sequential(\n",
    "            nn.Conv2d(in_channels, 96, kernel_size=11, stride=4, padding=0),\n",
    "            nn.ReLU(),\n",
    "            nn.MaxPool2d(kernel_size=3, stride=2)\n",
    "        )\n",
    "        self.conv2 = nn.Sequential(\n",
    "             nn.Conv2d(96, 256, kernel_size=5, stride=1, padding=2),\n",
    "             nn.ReLU(),\n",
    "             nn.MaxPool2d(kernel_size=3, stride=2)\n",
    "        )\n",
    "        self.conv3 = nn.Sequential(\n",
    "            nn.Conv2d(256, 384, kernel_size=3, stride=1, padding=1),\n",
    "            nn.ReLU()\n",
    "        )\n",
    "        self.conv4 = nn.Sequential(\n",
    "            nn.Conv2d(384, 384, kernel_size=3, stride=1, padding=1),\n",
    "            nn.ReLU()\n",
    "        )\n",
    "        self.conv5 = nn.Sequential(\n",
    "            nn.Conv2d(384, 256, kernel_size=3, stride=1, padding=1),\n",
    "            nn.ReLU(),\n",
    "            nn.MaxPool2d(kernel_size=3, stride=2)\n",
    "        )\n",
    "        self.fc = nn.Sequential(\n",
    "            nn.Linear(256*5*5, 4096),\n",
    "            nn.ReLU(),\n",
    "            nn.Dropout(0.5),\n",
    "            nn.Linear(4096, 4096),\n",
    "            nn.ReLU(),\n",
    "            nn.Dropout(0.5),\n",
    "            nn.Linear(4096, num_classes)\n",
    "        )\n",
    "\n",
    "    def forward(self, x):\n",
    "        x = self.conv1(x)\n",
    "        x = self.conv2(x)\n",
    "        x = self.conv3(x)\n",
    "        x = self.conv4(x)\n",
    "        x = self.conv5(x)\n",
    "        x = x.view(x.size(0), 256*5*5)\n",
    "        x = self.fc(x)\n",
    "        return x\n"
   ]
  },
  {
   "cell_type": "code",
   "execution_count": 11,
   "metadata": {
    "ExecuteTime": {
     "end_time": "2024-11-28T04:05:00.198470Z",
     "start_time": "2024-11-28T04:05:00.184626Z"
    }
   },
   "outputs": [],
   "source": [
    "# 定义数据预处理\n",
    "def kk_data_transform():\n",
    "    return {\n",
    "        'train': transforms.Compose([transforms.RandomResizedCrop(224),\n",
    "                                      transforms.RandomHorizontalFlip(),\n",
    "                                      transforms.ToTensor(),\n",
    "                                      transforms.Normalize(mean, std)]),\n",
    "        'valid': transforms.Compose([transforms.Resize(256), \n",
    "                                     transforms.CenterCrop(224), \n",
    "                                     transforms.ToTensor(),\n",
    "                                     transforms.Normalize(mean, std)])\n",
    "    }"
   ]
  },
  {
   "cell_type": "code",
   "execution_count": 13,
   "metadata": {
    "ExecuteTime": {
     "end_time": "2024-11-28T04:07:58.070243Z",
     "start_time": "2024-11-28T04:05:03.624774Z"
    }
   },
   "outputs": [
    {
     "name": "stdout",
     "output_type": "stream",
     "text": [
      "Files already downloaded and verified\n",
      "Files already downloaded and verified\n",
      "训练集大小: 42500, 验证集大小: 7500, 测试集大小: 10000\n"
     ]
    }
   ],
   "source": [
    "# 数据加载\n",
    "data_path = os.path.join('../', \"data/CIFAR10\")\n",
    "train_loader, valid_loader, test_loader = kk_load_data(data_path, ratio=0.15, batch_size=256, DataSets=CIFAR10, transform=kk_data_transform())"
   ]
  },
  {
   "cell_type": "code",
   "execution_count": 20,
   "metadata": {},
   "outputs": [],
   "source": [
    "class Config():\n",
    "    \"\"\"配置类\"\"\"\n",
    "    def __init__(self):\n",
    "        self.num_epochs = 100\n",
    "        self.patience = 20\n",
    "        self.device = get_device()\n",
    "        self.save_path = os.path.join('../', \"models\", \"AlexNet\")\n",
    "        self.logs_path = os.path.join('../', \"logs\", \"AlexNet\")\n",
    "        self.plot_titles = 'AlexNet'\n",
    "        self.class_list = text_labels_cifar10"
   ]
  },
  {
   "cell_type": "code",
   "execution_count": 23,
   "metadata": {
    "ExecuteTime": {
     "end_time": "2024-11-28T04:08:14.707193Z",
     "start_time": "2024-11-28T04:08:14.239854Z"
    }
   },
   "outputs": [],
   "source": [
    "# 定义超参数\n",
    "epochs = 100\n",
    "lr = 0.01\n",
    "device = get_device()\n",
    "# 定义模型\n",
    "model = AlexNet(in_channels=3, num_classes=10).to(device)\n",
    "model.apply(kk_init_weights_relu)\n",
    "# 定义损失函数和优化器\n",
    "criterion = nn.CrossEntropyLoss()\n",
    "optimizer = optim.SGD(model.parameters(), lr=lr, momentum=0.99)\n",
    "scheduler = optim.lr_scheduler.StepLR(optimizer, step_size=10, gamma=0.3)\n"
   ]
  },
  {
   "cell_type": "code",
   "execution_count": 22,
   "metadata": {
    "ExecuteTime": {
     "end_time": "2024-11-28T06:12:00.192037Z",
     "start_time": "2024-11-28T06:11:59.656123Z"
    }
   },
   "outputs": [
    {
     "name": "stdout",
     "output_type": "stream",
     "text": [
      "Epoch: 【1/100】\n",
      "Iter 0      训练损失: 2.3327, 训练精度: 8.203%, 验证精度: 10.160%, 模型优化: * 训练设备: mps, 学习率: 0.010000000\n",
      "Iter 100    训练损失: 2.0506, 训练精度: 23.403%, 验证精度: 29.587%, 模型优化: * 训练设备: mps, 学习率: 0.010000000\n",
      "Epoch: 【2/100】\n",
      "Iter 200    训练损失: 1.9951, 训练精度: 25.928%, 验证精度: 26.293%, 模型优化:  训练设备: mps, 学习率: 0.010000000\n",
      "Iter 300    训练损失: 1.9555, 训练精度: 27.285%, 验证精度: 29.600%, 模型优化: * 训练设备: mps, 学习率: 0.010000000\n",
      "Epoch: 【3/100】\n",
      "Iter 400    训练损失: 1.9366, 训练精度: 27.916%, 验证精度: 30.427%, 模型优化: * 训练设备: mps, 学习率: 0.010000000\n",
      "Iter 500    训练损失: 1.9124, 训练精度: 28.955%, 验证精度: 34.173%, 模型优化: * 训练设备: mps, 学习率: 0.010000000\n",
      "Epoch: 【4/100】\n",
      "Iter 600    训练损失: 1.9143, 训练精度: 28.811%, 验证精度: 30.440%, 模型优化:  训练设备: mps, 学习率: 0.010000000\n",
      "Epoch: 【5/100】\n",
      "Iter 700    训练损失: 1.9096, 训练精度: 29.070%, 验证精度: 25.120%, 模型优化:  训练设备: mps, 学习率: 0.010000000\n",
      "Iter 800    训练损失: 1.9040, 训练精度: 29.262%, 验证精度: 33.520%, 模型优化:  训练设备: mps, 学习率: 0.010000000\n",
      "Epoch: 【6/100】\n",
      "Iter 900    训练损失: 1.8982, 训练精度: 29.467%, 验证精度: 31.400%, 模型优化:  训练设备: mps, 学习率: 0.010000000\n",
      "Iter 1000   训练损失: 1.8842, 训练精度: 30.013%, 验证精度: 36.653%, 模型优化: * 训练设备: mps, 学习率: 0.003000000\n",
      "Epoch: 【7/100】\n",
      "Iter 1100   训练损失: 1.8747, 训练精度: 30.428%, 验证精度: 35.853%, 模型优化:  训练设备: mps, 学习率: 0.003000000\n",
      "Epoch: 【8/100】\n",
      "Iter 1200   训练损失: 1.8616, 训练精度: 30.956%, 验证精度: 36.413%, 模型优化:  训练设备: mps, 学习率: 0.003000000\n",
      "Iter 1300   训练损失: 1.8475, 训练精度: 31.531%, 验证精度: 40.947%, 模型优化: * 训练设备: mps, 学习率: 0.003000000\n",
      "Epoch: 【9/100】\n",
      "Iter 1400   训练损失: 1.8349, 训练精度: 32.044%, 验证精度: 39.707%, 模型优化:  训练设备: mps, 学习率: 0.003000000\n",
      "Iter 1500   训练损失: 1.8201, 训练精度: 32.641%, 验证精度: 41.960%, 模型优化: * 训练设备: mps, 学习率: 0.003000000\n",
      "Epoch: 【10/100】\n",
      "Iter 1600   训练损失: 1.8095, 训练精度: 33.055%, 验证精度: 41.093%, 模型优化:  训练设备: mps, 学习率: 0.003000000\n",
      "Epoch: 【11/100】\n",
      "Iter 1700   训练损失: 1.7974, 训练精度: 33.548%, 验证精度: 37.533%, 模型优化:  训练设备: mps, 学习率: 0.003000000\n",
      "Iter 1800   训练损失: 1.7858, 训练精度: 34.015%, 验证精度: 43.333%, 模型优化: * 训练设备: mps, 学习率: 0.003000000\n",
      "Epoch: 【12/100】\n",
      "Iter 1900   训练损失: 1.7751, 训练精度: 34.461%, 验证精度: 41.640%, 模型优化:  训练设备: mps, 学习率: 0.003000000\n",
      "Iter 2000   训练损失: 1.7623, 训练精度: 34.983%, 验证精度: 46.067%, 模型优化: * 训练设备: mps, 学习率: 0.000900000\n",
      "Epoch: 【13/100】\n",
      "Iter 2100   训练损失: 1.7519, 训练精度: 35.418%, 验证精度: 46.800%, 模型优化: * 训练设备: mps, 学习率: 0.000900000\n",
      "Epoch: 【14/100】\n",
      "Iter 2200   训练损失: 1.7393, 训练精度: 35.933%, 验证精度: 46.040%, 模型优化:  训练设备: mps, 学习率: 0.000900000\n",
      "Iter 2300   训练损失: 1.7268, 训练精度: 36.426%, 验证精度: 48.187%, 模型优化: * 训练设备: mps, 学习率: 0.000900000\n",
      "Epoch: 【15/100】\n",
      "Iter 2400   训练损失: 1.7158, 训练精度: 36.864%, 验证精度: 47.680%, 模型优化:  训练设备: mps, 学习率: 0.000900000\n",
      "Iter 2500   训练损失: 1.7035, 训练精度: 37.357%, 验证精度: 49.360%, 模型优化: * 训练设备: mps, 学习率: 0.000900000\n",
      "Epoch: 【16/100】\n",
      "Iter 2600   训练损失: 1.6958, 训练精度: 37.681%, 验证精度: 47.640%, 模型优化:  训练设备: mps, 学习率: 0.000900000\n",
      "Epoch: 【17/100】\n",
      "Iter 2700   训练损失: 1.6867, 训练精度: 38.067%, 验证精度: 46.813%, 模型优化:  训练设备: mps, 学习率: 0.000900000\n",
      "Iter 2800   训练损失: 1.6773, 训练精度: 38.430%, 验证精度: 48.147%, 模型优化:  训练设备: mps, 学习率: 0.000900000\n",
      "Epoch: 【18/100】\n",
      "Iter 2900   训练损失: 1.6691, 训练精度: 38.750%, 验证精度: 47.227%, 模型优化:  训练设备: mps, 学习率: 0.000900000\n",
      "Iter 3000   训练损失: 1.6599, 训练精度: 39.119%, 验证精度: 49.920%, 模型优化: * 训练设备: mps, 学习率: 0.000270000\n",
      "Epoch: 【19/100】\n",
      "Iter 3100   训练损失: 1.6530, 训练精度: 39.401%, 验证精度: 50.120%, 模型优化: * 训练设备: mps, 学习率: 0.000270000\n",
      "Epoch: 【20/100】\n",
      "Iter 3200   训练损失: 1.6446, 训练精度: 39.739%, 验证精度: 49.427%, 模型优化:  训练设备: mps, 学习率: 0.000270000\n",
      "Iter 3300   训练损失: 1.6352, 训练精度: 40.112%, 验证精度: 52.093%, 模型优化: * 训练设备: mps, 学习率: 0.000270000\n",
      "Epoch: 【21/100】\n",
      "Iter 3400   训练损失: 1.6280, 训练精度: 40.398%, 验证精度: 51.040%, 模型优化:  训练设备: mps, 学习率: 0.000270000\n",
      "Iter 3500   训练损失: 1.6196, 训练精度: 40.745%, 验证精度: 51.840%, 模型优化:  训练设备: mps, 学习率: 0.000270000\n",
      "Epoch: 【22/100】\n",
      "Iter 3600   训练损失: 1.6138, 训练精度: 40.987%, 验证精度: 50.707%, 模型优化:  训练设备: mps, 学习率: 0.000270000\n",
      "Epoch: 【23/100】\n",
      "Iter 3700   训练损失: 1.6065, 训练精度: 41.278%, 验证精度: 51.227%, 模型优化:  训练设备: mps, 学习率: 0.000270000\n",
      "Iter 3800   训练损失: 1.5988, 训练精度: 41.587%, 验证精度: 52.613%, 模型优化: * 训练设备: mps, 学习率: 0.000270000\n",
      "Epoch: 【24/100】\n",
      "Iter 3900   训练损失: 1.5930, 训练精度: 41.818%, 验证精度: 52.187%, 模型优化:  训练设备: mps, 学习率: 0.000270000\n",
      "Iter 4000   训练损失: 1.5856, 训练精度: 42.107%, 验证精度: 53.080%, 模型优化: * 训练设备: mps, 学习率: 0.000081000\n",
      "Epoch: 【25/100】\n",
      "Iter 4100   训练损失: 1.5807, 训练精度: 42.307%, 验证精度: 52.360%, 模型优化:  训练设备: mps, 学习率: 0.000081000\n",
      "Epoch: 【26/100】\n",
      "Iter 4200   训练损失: 1.5743, 训练精度: 42.555%, 验证精度: 52.613%, 模型优化:  训练设备: mps, 学习率: 0.000081000\n",
      "Iter 4300   训练损失: 1.5678, 训练精度: 42.805%, 验证精度: 52.773%, 模型优化:  训练设备: mps, 学习率: 0.000081000\n",
      "Epoch: 【27/100】\n",
      "Iter 4400   训练损失: 1.5625, 训练精度: 43.027%, 验证精度: 53.467%, 模型优化: * 训练设备: mps, 学习率: 0.000081000\n"
     ]
    }
   ],
   "source": [
    "# 训练\n",
    "config = Config()\n",
    "trainer = kk_ImageClassifierTrainer(config, model, criterion, optimizer, scheduler)\n",
    "trainer.train_iter(train_loader, valid_loader)\n"
   ]
  }
 ],
 "metadata": {
  "kernelspec": {
   "display_name": "kk_cv",
   "language": "python",
   "name": "python3"
  },
  "language_info": {
   "codemirror_mode": {
    "name": "ipython",
    "version": 3
   },
   "file_extension": ".py",
   "mimetype": "text/x-python",
   "name": "python",
   "nbconvert_exporter": "python",
   "pygments_lexer": "ipython3",
   "version": "3.9.20"
  }
 },
 "nbformat": 4,
 "nbformat_minor": 2
}
