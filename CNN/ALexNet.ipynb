{
 "cells": [
  {
   "cell_type": "markdown",
   "metadata": {},
   "source": [
    "@Author : kkutysllb\n",
    "\n",
    "@E-mail : libing1@sn.chinamobile.com，31468130@qq.com\n",
    "\n",
    "@Date   : 2024-11-26 10:15\n",
    "\n",
    "@Desc   : AleNet图片分类"
   ]
  },
  {
   "cell_type": "code",
   "execution_count": 6,
   "metadata": {},
   "outputs": [],
   "source": [
    "import torch\n",
    "import torch.nn as nn\n",
    "import torch.optim as optim\n",
    "from torchvision.datasets import CIFAR10\n",
    "from torchvision import transforms\n",
    "import sys\n",
    "import os\n",
    "sys.path.append('../')\n",
    "from kk_libraries.kk_functions import get_device, kk_animator_train_evaluate\n",
    "from kk_libraries.kk_models import kk_init_weights_relu\n",
    "from kk_libraries.kk_dataprocess import kk_load_data, kk_predict_images_labels\n",
    "from kk_libraries.kk_constants import text_labels_cifar10, mean, std\n"
   ]
  },
  {
   "cell_type": "code",
   "execution_count": null,
   "metadata": {},
   "outputs": [],
   "source": [
    "# 定义模型\n",
    "class AlexNet(nn.Module):\n",
    "    def __init__(self, in_channels=3, num_classes=10):\n",
    "        super(AlexNet, self).__init__()"
   ]
  },
  {
   "cell_type": "code",
   "execution_count": 8,
   "metadata": {},
   "outputs": [],
   "source": [
    "# 定义数据预处理\n",
    "def kk_data_transform():\n",
    "    return {\n",
    "        'train': transforms.Compose([transforms.RandomResizedCrop(224),\n",
    "                                      transforms.RandomHorizontalFlip(),\n",
    "                                      transforms.ToTensor(),\n",
    "                                      transforms.Normalize(mean, std)]),\n",
    "        'valid': transforms.Compose([transforms.Resize(256), \n",
    "                                     transforms.CenterCrop(224), \n",
    "                                     transforms.ToTensor(), \n",
    "                                     transforms.Normalize(mean, std)])\n",
    "    }"
   ]
  },
  {
   "cell_type": "code",
   "execution_count": 9,
   "metadata": {},
   "outputs": [
    {
     "name": "stdout",
     "output_type": "stream",
     "text": [
      "Downloading https://www.cs.toronto.edu/~kriz/cifar-10-python.tar.gz to ../data/CIFAR10/cifar-10-python.tar.gz\n"
     ]
    },
    {
     "name": "stderr",
     "output_type": "stream",
     "text": [
      "2.0%"
     ]
    }
   ],
   "source": [
    "# 数据加载\n",
    "data_path = os.path.join('../', \"data/CIFAR10\")\n",
    "train_loader, valid_loader, test_loader = kk_load_data(data_path, ratio=0.05, batch_size=256, DataSets=CIFAR10, transform=kk_data_transform())"
   ]
  }
 ],
 "metadata": {
  "kernelspec": {
   "display_name": "kk_cv",
   "language": "python",
   "name": "python3"
  },
  "language_info": {
   "codemirror_mode": {
    "name": "ipython",
    "version": 3
   },
   "file_extension": ".py",
   "mimetype": "text/x-python",
   "name": "python",
   "nbconvert_exporter": "python",
   "pygments_lexer": "ipython3",
   "version": "3.9.20"
  }
 },
 "nbformat": 4,
 "nbformat_minor": 2
}
